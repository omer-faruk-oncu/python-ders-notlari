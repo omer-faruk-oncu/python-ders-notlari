{
 "cells": [
  {
   "cell_type": "code",
   "execution_count": 1,
   "metadata": {},
   "outputs": [
    {
     "name": "stdout",
     "output_type": "stream",
     "text": [
      "True\n"
     ]
    }
   ],
   "source": [
    "if True:\n",
    "    print(\"True\")"
   ]
  },
  {
   "cell_type": "code",
   "execution_count": 2,
   "metadata": {},
   "outputs": [],
   "source": [
    "if False:\n",
    "    print(\"True\")"
   ]
  },
  {
   "cell_type": "code",
   "execution_count": 3,
   "metadata": {},
   "outputs": [
    {
     "name": "stdout",
     "output_type": "stream",
     "text": [
      "2 esit 2\n"
     ]
    }
   ],
   "source": [
    "a = 2\n",
    "b = 2\n",
    "\n",
    "if a == b:\n",
    "    print(f'{a} esit {b}')"
   ]
  },
  {
   "cell_type": "code",
   "execution_count": 4,
   "metadata": {},
   "outputs": [
    {
     "name": "stdout",
     "output_type": "stream",
     "text": [
      "True\n"
     ]
    }
   ],
   "source": [
    "if 1:\n",
    "    print(\"True\")"
   ]
  },
  {
   "cell_type": "code",
   "execution_count": 7,
   "metadata": {},
   "outputs": [
    {
     "name": "stdout",
     "output_type": "stream",
     "text": [
      "True\n"
     ]
    }
   ],
   "source": [
    "if (0,):\n",
    "    print(\"True\")"
   ]
  },
  {
   "cell_type": "code",
   "execution_count": null,
   "metadata": {},
   "outputs": [],
   "source": [
    "empty_seat = 14"
   ]
  },
  {
   "cell_type": "code",
   "execution_count": 8,
   "metadata": {},
   "outputs": [
    {
     "data": {
      "text/plain": [
       "set()"
      ]
     },
     "execution_count": 8,
     "metadata": {},
     "output_type": "execute_result"
    }
   ],
   "source": [
    "set1 = set('TWELVE PLUS ONE')\n",
    "set2 = set('ELEVEN PLUS TWO')\n",
    "\n",
    "set1 - set2"
   ]
  },
  {
   "cell_type": "code",
   "execution_count": 9,
   "metadata": {},
   "outputs": [
    {
     "name": "stdout",
     "output_type": "stream",
     "text": [
      "We are the same\n"
     ]
    }
   ],
   "source": [
    "if bool(set1 - set2) == False:\n",
    "    print(\"We are the same\")"
   ]
  },
  {
   "cell_type": "code",
   "execution_count": 11,
   "metadata": {},
   "outputs": [
    {
     "name": "stdout",
     "output_type": "stream",
     "text": [
      "We are the same\n"
     ]
    }
   ],
   "source": [
    "if not bool(set1 - set2):\n",
    "    print(\"We are the same\")"
   ]
  },
  {
   "cell_type": "code",
   "execution_count": 12,
   "metadata": {},
   "outputs": [
    {
     "name": "stdout",
     "output_type": "stream",
     "text": [
      "x is greater than 5\n"
     ]
    }
   ],
   "source": [
    "x = 7 \n",
    "if x > 5:\n",
    "    print(\"x is greater than 5\")\n",
    "else:\n",
    "    print(\"x is not greater than 5\")"
   ]
  },
  {
   "cell_type": "code",
   "execution_count": 3,
   "metadata": {},
   "outputs": [
    {
     "name": "stdout",
     "output_type": "stream",
     "text": [
      "you guaranteed the job\n",
      "hello world\n"
     ]
    }
   ],
   "source": [
    "course = 'clarusway'\n",
    "\n",
    "if course.lower() == 'clarusway':\n",
    "    print(\"you guaranteed the job\")\n",
    "else:\n",
    "    print(\"you have to work hard\")\n",
    "print('hello world')"
   ]
  },
  {
   "cell_type": "code",
   "execution_count": 5,
   "metadata": {},
   "outputs": [
    {
     "name": "stdout",
     "output_type": "stream",
     "text": [
      "6 is odd\n"
     ]
    }
   ],
   "source": [
    "number = int(input('enter a number:'))\n",
    "\n",
    "if number % 2 == 0:\n",
    "    print(f'{number} is even')\n",
    "else:\n",
    "    print(f'{number} is odd')"
   ]
  },
  {
   "cell_type": "code",
   "execution_count": 14,
   "metadata": {},
   "outputs": [
    {
     "name": "stdout",
     "output_type": "stream",
     "text": [
      "5 is positive\n"
     ]
    }
   ],
   "source": [
    "number = int(input('enter a number:'))\n",
    "\n",
    "if number > 0 :\n",
    "    print(f'{number} is positive')\n",
    "elif number == 0:\n",
    "    print(f'{number} is zero')\n",
    "else:\n",
    "    print(f'{number} is negative')"
   ]
  },
  {
   "cell_type": "code",
   "execution_count": 15,
   "metadata": {},
   "outputs": [
    {
     "name": "stdout",
     "output_type": "stream",
     "text": [
      "6 is less than 9\n"
     ]
    }
   ],
   "source": [
    "num1 = int(input('enter the first number: '))\n",
    "num2 = int(input('enter the second number: '))\n",
    "\n",
    "if num1 > num2:\n",
    "    print(f'{num1} is greater than {num2}')\n",
    "elif num1 == num2:\n",
    "    print(f'{num1} is equal to {num2}')\n",
    "else:\n",
    "    print(f'{num1} is less than {num2}')"
   ]
  },
  {
   "cell_type": "code",
   "execution_count": 22,
   "metadata": {},
   "outputs": [
    {
     "name": "stdout",
     "output_type": "stream",
     "text": [
      "the largest number is7\n"
     ]
    }
   ],
   "source": [
    "num1 = int(input('enter the first number: '))\n",
    "num2 = int(input('enter the second number: '))\n",
    "num3 = int(input('enter the third number: '))\n",
    "\n",
    "if num1 >= num2 and num1 >= num3:\n",
    "    print(f'the largest number is {num1}')\n",
    "elif num2 >= num3 and num2 >= num1:\n",
    "    print(f'the largest number is {num2}')\n",
    "else:\n",
    "    print(f'the largest number is {num3}')"
   ]
  },
  {
   "cell_type": "code",
   "execution_count": 28,
   "metadata": {},
   "outputs": [
    {
     "name": "stdout",
     "output_type": "stream",
     "text": [
      "below B or B-\n"
     ]
    }
   ],
   "source": [
    "score = int(input('enter your exam score'))\n",
    "\n",
    "if score >= 95 and score <= 100:\n",
    "    print('A+')\n",
    "elif score >= 90 and score < 95:\n",
    "    print('A')\n",
    "elif score >= 85 and score < 90:\n",
    "    print('B+')\n",
    "elif score >= 80 and score < 85:\n",
    "    print('B')\n",
    "else:\n",
    "    print('below B or B-')\n"
   ]
  },
  {
   "cell_type": "code",
   "execution_count": 32,
   "metadata": {},
   "outputs": [
    {
     "name": "stdout",
     "output_type": "stream",
     "text": [
      "0\n",
      "1\n",
      "2\n",
      "3\n",
      "4\n",
      "5\n",
      "number is greater or equal 6\n",
      "6\n"
     ]
    }
   ],
   "source": [
    "num = 0\n",
    "\n",
    "while num < 6:\n",
    "    print(num)\n",
    "    num += 1\n",
    "\n",
    "print('number is greater or equal 6')\n",
    "print(num)\n"
   ]
  },
  {
   "cell_type": "code",
   "execution_count": 44,
   "metadata": {},
   "outputs": [
    {
     "name": "stdout",
     "output_type": "stream",
     "text": [
      "higher\n",
      "lower\n",
      "correct\n"
     ]
    }
   ],
   "source": [
    "\n",
    "number = 10\n",
    "key = True\n",
    "\n",
    "while key:\n",
    "    guess = int(input('guess a number between 1 and 100'))\n",
    "    \n",
    "    if guess > number:\n",
    "        print('lower')\n",
    "\n",
    "    elif guess < number:\n",
    "        print('higher')\n",
    "    else:\n",
    "        print('correct')\n",
    "        break   \n"
   ]
  },
  {
   "cell_type": "code",
   "execution_count": 45,
   "metadata": {},
   "outputs": [
    {
     "name": "stdout",
     "output_type": "stream",
     "text": [
      "21\n",
      "lower\n",
      "higher\n",
      "correct\n"
     ]
    }
   ],
   "source": [
    "import random\n",
    "\n",
    "number = random.randint(1, 50)\n",
    "print(number)\n",
    "\n",
    "key = True\n",
    "\n",
    "while key:\n",
    "    guess = int(input('guess a number between 1 and 100'))\n",
    "    \n",
    "    if guess > number:\n",
    "        print('lower')\n",
    "\n",
    "    elif guess < number:\n",
    "        print('higher')\n",
    "    else:\n",
    "        print('correct')\n",
    "        break   "
   ]
  },
  {
   "cell_type": "code",
   "execution_count": 1,
   "metadata": {},
   "outputs": [
    {
     "data": {
      "text/plain": [
       "True"
      ]
     },
     "execution_count": 1,
     "metadata": {},
     "output_type": "execute_result"
    }
   ],
   "source": [
    "'14'.isdigit()"
   ]
  },
  {
   "cell_type": "code",
   "execution_count": 2,
   "metadata": {},
   "outputs": [
    {
     "data": {
      "text/plain": [
       "False"
      ]
     },
     "execution_count": 2,
     "metadata": {},
     "output_type": "execute_result"
    }
   ],
   "source": [
    "'14a'.isdigit()"
   ]
  },
  {
   "cell_type": "code",
   "execution_count": 4,
   "metadata": {},
   "outputs": [
    {
     "name": "stdout",
     "output_type": "stream",
     "text": [
      "you entered invalid value\n",
      "your age is 56\n"
     ]
    }
   ],
   "source": [
    "age = input('please enter your age')\n",
    "while not age.isdigit():\n",
    "    print('you entered invalid value')\n",
    "    age = input('please enter your age again')\n",
    "\n",
    "print(f'your age is {age}')"
   ]
  },
  {
   "cell_type": "code",
   "execution_count": 2,
   "metadata": {},
   "outputs": [
    {
     "name": "stdout",
     "output_type": "stream",
     "text": [
      "34\n",
      "enter higher-----remain rights: 4\n",
      "enter lower-----remain rights: 3\n",
      "enter higher-----remain rights: 2\n",
      "enter lower-----remain rights: 1\n",
      "correct\n"
     ]
    }
   ],
   "source": [
    "import random\n",
    "num =random.randint(1,50)\n",
    "print(num)\n",
    "\n",
    "rights = 5\n",
    "\n",
    "while rights > 0:\n",
    "    guess = int(input('enter a number between 1 and 50'))\n",
    "    rights -= 1\n",
    "\n",
    "    if guess == num:\n",
    "        print('correct')\n",
    "        break\n",
    "    elif guess > num:\n",
    "        print(f'enter lower-----remain rights: {rights}')\n",
    "    elif guess < num: \n",
    "        print(f'enter higher-----remain rights: {rights}')\n",
    "else:\n",
    "    print(f'game over. number {num}')   "
   ]
  },
  {
   "cell_type": "code",
   "execution_count": 13,
   "metadata": {},
   "outputs": [
    {
     "name": "stdout",
     "output_type": "stream",
     "text": [
      "longest word is: merbve. length of longest wors is 6\n"
     ]
    }
   ],
   "source": [
    "sentence = input('enter a sentence')\n",
    "\n",
    "words = sentence.split()\n",
    "\n",
    "counter = 0\n",
    "longest = ''\n",
    "\n",
    "while counter < len(words):\n",
    "   \n",
    "    if len(words[counter]) > len(longest):\n",
    "        longest = words[counter]\n",
    "    counter += 1\n",
    "print(f'longest word is: {longest}. length of longest wors is {len(longest)}')\n"
   ]
  },
  {
   "cell_type": "code",
   "execution_count": 14,
   "metadata": {},
   "outputs": [
    {
     "name": "stdout",
     "output_type": "stream",
     "text": [
      "1\n",
      "2\n",
      "3\n",
      "4\n",
      "5\n"
     ]
    }
   ],
   "source": [
    "numbers = [1, 2, 3, 4, 5]\n",
    "\n",
    "for i in numbers:\n",
    "    print(i)"
   ]
  },
  {
   "cell_type": "code",
   "execution_count": null,
   "metadata": {},
   "outputs": [],
   "source": []
  }
 ],
 "metadata": {
  "kernelspec": {
   "display_name": "Python 3",
   "language": "python",
   "name": "python3"
  },
  "language_info": {
   "codemirror_mode": {
    "name": "ipython",
    "version": 3
   },
   "file_extension": ".py",
   "mimetype": "text/x-python",
   "name": "python",
   "nbconvert_exporter": "python",
   "pygments_lexer": "ipython3",
   "version": "3.12.0"
  }
 },
 "nbformat": 4,
 "nbformat_minor": 2
}
