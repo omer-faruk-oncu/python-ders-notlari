{
 "cells": [
  {
   "cell_type": "code",
   "execution_count": 1,
   "metadata": {},
   "outputs": [
    {
     "name": "stdout",
     "output_type": "stream",
     "text": [
      "True\n"
     ]
    }
   ],
   "source": [
    "if True:\n",
    "    print(\"True\")"
   ]
  },
  {
   "cell_type": "code",
   "execution_count": 2,
   "metadata": {},
   "outputs": [],
   "source": [
    "if False:\n",
    "    print(\"True\")"
   ]
  },
  {
   "cell_type": "code",
   "execution_count": 3,
   "metadata": {},
   "outputs": [
    {
     "name": "stdout",
     "output_type": "stream",
     "text": [
      "2 esit 2\n"
     ]
    }
   ],
   "source": [
    "a = 2\n",
    "b = 2\n",
    "\n",
    "if a == b:\n",
    "    print(f'{a} esit {b}')"
   ]
  },
  {
   "cell_type": "code",
   "execution_count": 4,
   "metadata": {},
   "outputs": [
    {
     "name": "stdout",
     "output_type": "stream",
     "text": [
      "True\n"
     ]
    }
   ],
   "source": [
    "if 1:\n",
    "    print(\"True\")"
   ]
  },
  {
   "cell_type": "code",
   "execution_count": 7,
   "metadata": {},
   "outputs": [
    {
     "name": "stdout",
     "output_type": "stream",
     "text": [
      "True\n"
     ]
    }
   ],
   "source": [
    "if (0,):\n",
    "    print(\"True\")"
   ]
  },
  {
   "cell_type": "code",
   "execution_count": null,
   "metadata": {},
   "outputs": [],
   "source": [
    "empty_seat = 14"
   ]
  },
  {
   "cell_type": "code",
   "execution_count": 8,
   "metadata": {},
   "outputs": [
    {
     "data": {
      "text/plain": [
       "set()"
      ]
     },
     "execution_count": 8,
     "metadata": {},
     "output_type": "execute_result"
    }
   ],
   "source": [
    "set1 = set('TWELVE PLUS ONE')\n",
    "set2 = set('ELEVEN PLUS TWO')\n",
    "\n",
    "set1 - set2"
   ]
  },
  {
   "cell_type": "code",
   "execution_count": 9,
   "metadata": {},
   "outputs": [
    {
     "name": "stdout",
     "output_type": "stream",
     "text": [
      "We are the same\n"
     ]
    }
   ],
   "source": [
    "if bool(set1 - set2) == False:\n",
    "    print(\"We are the same\")"
   ]
  },
  {
   "cell_type": "code",
   "execution_count": 11,
   "metadata": {},
   "outputs": [
    {
     "name": "stdout",
     "output_type": "stream",
     "text": [
      "We are the same\n"
     ]
    }
   ],
   "source": [
    "if not bool(set1 - set2):\n",
    "    print(\"We are the same\")"
   ]
  },
  {
   "cell_type": "code",
   "execution_count": 12,
   "metadata": {},
   "outputs": [
    {
     "name": "stdout",
     "output_type": "stream",
     "text": [
      "x is greater than 5\n"
     ]
    }
   ],
   "source": [
    "x = 7 \n",
    "if x > 5:\n",
    "    print(\"x is greater than 5\")\n",
    "else:\n",
    "    print(\"x is not greater than 5\")"
   ]
  },
  {
   "cell_type": "code",
   "execution_count": 3,
   "metadata": {},
   "outputs": [
    {
     "name": "stdout",
     "output_type": "stream",
     "text": [
      "you guaranteed the job\n",
      "hello world\n"
     ]
    }
   ],
   "source": [
    "course = 'clarusway'\n",
    "\n",
    "if course.lower() == 'clarusway':\n",
    "    print(\"you guaranteed the job\")\n",
    "else:\n",
    "    print(\"you have to work hard\")\n",
    "print('hello world')"
   ]
  },
  {
   "cell_type": "code",
   "execution_count": 5,
   "metadata": {},
   "outputs": [
    {
     "name": "stdout",
     "output_type": "stream",
     "text": [
      "6 is odd\n"
     ]
    }
   ],
   "source": [
    "number = int(input('enter a number:'))\n",
    "\n",
    "if number % 2 == 0:\n",
    "    print(f'{number} is even')\n",
    "else:\n",
    "    print(f'{number} is odd')"
   ]
  },
  {
   "cell_type": "code",
   "execution_count": 14,
   "metadata": {},
   "outputs": [
    {
     "name": "stdout",
     "output_type": "stream",
     "text": [
      "5 is positive\n"
     ]
    }
   ],
   "source": [
    "number = int(input('enter a number:'))\n",
    "\n",
    "if number > 0 :\n",
    "    print(f'{number} is positive')\n",
    "elif number == 0:\n",
    "    print(f'{number} is zero')\n",
    "else:\n",
    "    print(f'{number} is negative')"
   ]
  },
  {
   "cell_type": "code",
   "execution_count": 15,
   "metadata": {},
   "outputs": [
    {
     "name": "stdout",
     "output_type": "stream",
     "text": [
      "6 is less than 9\n"
     ]
    }
   ],
   "source": [
    "num1 = int(input('enter the first number: '))\n",
    "num2 = int(input('enter the second number: '))\n",
    "\n",
    "if num1 > num2:\n",
    "    print(f'{num1} is greater than {num2}')\n",
    "elif num1 == num2:\n",
    "    print(f'{num1} is equal to {num2}')\n",
    "else:\n",
    "    print(f'{num1} is less than {num2}')"
   ]
  },
  {
   "cell_type": "code",
   "execution_count": 22,
   "metadata": {},
   "outputs": [
    {
     "name": "stdout",
     "output_type": "stream",
     "text": [
      "the largest number is7\n"
     ]
    }
   ],
   "source": [
    "num1 = int(input('enter the first number: '))\n",
    "num2 = int(input('enter the second number: '))\n",
    "num3 = int(input('enter the third number: '))\n",
    "\n",
    "if num1 >= num2 and num1 >= num3:\n",
    "    print(f'the largest number is {num1}')\n",
    "elif num2 >= num3 and num2 >= num1:\n",
    "    print(f'the largest number is {num2}')\n",
    "else:\n",
    "    print(f'the largest number is {num3}')"
   ]
  },
  {
   "cell_type": "code",
   "execution_count": 28,
   "metadata": {},
   "outputs": [
    {
     "name": "stdout",
     "output_type": "stream",
     "text": [
      "below B or B-\n"
     ]
    }
   ],
   "source": [
    "score = int(input('enter your exam score'))\n",
    "\n",
    "if score >= 95 and score <= 100:\n",
    "    print('A+')\n",
    "elif score >= 90 and score < 95:\n",
    "    print('A')\n",
    "elif score >= 85 and score < 90:\n",
    "    print('B+')\n",
    "elif score >= 80 and score < 85:\n",
    "    print('B')\n",
    "else:\n",
    "    print('below B or B-')\n"
   ]
  },
  {
   "cell_type": "code",
   "execution_count": 32,
   "metadata": {},
   "outputs": [
    {
     "name": "stdout",
     "output_type": "stream",
     "text": [
      "0\n",
      "1\n",
      "2\n",
      "3\n",
      "4\n",
      "5\n",
      "number is greater or equal 6\n",
      "6\n"
     ]
    }
   ],
   "source": [
    "num = 0\n",
    "\n",
    "while num < 6:\n",
    "    print(num)\n",
    "    num += 1\n",
    "\n",
    "print('number is greater or equal 6')\n",
    "print(num)\n"
   ]
  },
  {
   "cell_type": "code",
   "execution_count": 44,
   "metadata": {},
   "outputs": [
    {
     "name": "stdout",
     "output_type": "stream",
     "text": [
      "higher\n",
      "lower\n",
      "correct\n"
     ]
    }
   ],
   "source": [
    "\n",
    "number = 10\n",
    "key = True\n",
    "\n",
    "while key:\n",
    "    guess = int(input('guess a number between 1 and 100'))\n",
    "    \n",
    "    if guess > number:\n",
    "        print('lower')\n",
    "\n",
    "    elif guess < number:\n",
    "        print('higher')\n",
    "    else:\n",
    "        print('correct')\n",
    "        break   \n"
   ]
  },
  {
   "cell_type": "code",
   "execution_count": 45,
   "metadata": {},
   "outputs": [
    {
     "name": "stdout",
     "output_type": "stream",
     "text": [
      "21\n",
      "lower\n",
      "higher\n",
      "correct\n"
     ]
    }
   ],
   "source": [
    "import random\n",
    "\n",
    "number = random.randint(1, 50)\n",
    "print(number)\n",
    "\n",
    "key = True\n",
    "\n",
    "while key:\n",
    "    guess = int(input('guess a number between 1 and 100'))\n",
    "    \n",
    "    if guess > number:\n",
    "        print('lower')\n",
    "\n",
    "    elif guess < number:\n",
    "        print('higher')\n",
    "    else:\n",
    "        print('correct')\n",
    "        break   "
   ]
  },
  {
   "cell_type": "code",
   "execution_count": 1,
   "metadata": {},
   "outputs": [
    {
     "data": {
      "text/plain": [
       "True"
      ]
     },
     "execution_count": 1,
     "metadata": {},
     "output_type": "execute_result"
    }
   ],
   "source": [
    "'14'.isdigit()"
   ]
  },
  {
   "cell_type": "code",
   "execution_count": 2,
   "metadata": {},
   "outputs": [
    {
     "data": {
      "text/plain": [
       "False"
      ]
     },
     "execution_count": 2,
     "metadata": {},
     "output_type": "execute_result"
    }
   ],
   "source": [
    "'14a'.isdigit()"
   ]
  },
  {
   "cell_type": "code",
   "execution_count": 4,
   "metadata": {},
   "outputs": [
    {
     "name": "stdout",
     "output_type": "stream",
     "text": [
      "you entered invalid value\n",
      "your age is 56\n"
     ]
    }
   ],
   "source": [
    "age = input('please enter your age')\n",
    "while not age.isdigit():\n",
    "    print('you entered invalid value')\n",
    "    age = input('please enter your age again')\n",
    "\n",
    "print(f'your age is {age}')"
   ]
  },
  {
   "cell_type": "code",
   "execution_count": 2,
   "metadata": {},
   "outputs": [
    {
     "name": "stdout",
     "output_type": "stream",
     "text": [
      "34\n",
      "enter higher-----remain rights: 4\n",
      "enter lower-----remain rights: 3\n",
      "enter higher-----remain rights: 2\n",
      "enter lower-----remain rights: 1\n",
      "correct\n"
     ]
    }
   ],
   "source": [
    "import random\n",
    "num =random.randint(1,50)\n",
    "print(num)\n",
    "\n",
    "rights = 5\n",
    "\n",
    "while rights > 0:\n",
    "    guess = int(input('enter a number between 1 and 50'))\n",
    "    rights -= 1\n",
    "\n",
    "    if guess == num:\n",
    "        print('correct')\n",
    "        break\n",
    "    elif guess > num:\n",
    "        print(f'enter lower-----remain rights: {rights}')\n",
    "    elif guess < num: \n",
    "        print(f'enter higher-----remain rights: {rights}')\n",
    "else:\n",
    "    print(f'game over. number {num}')   "
   ]
  },
  {
   "cell_type": "code",
   "execution_count": 13,
   "metadata": {},
   "outputs": [
    {
     "name": "stdout",
     "output_type": "stream",
     "text": [
      "longest word is: merbve. length of longest wors is 6\n"
     ]
    }
   ],
   "source": [
    "sentence = input('enter a sentence')\n",
    "\n",
    "words = sentence.split()\n",
    "\n",
    "counter = 0\n",
    "longest = ''\n",
    "\n",
    "while counter < len(words):\n",
    "   \n",
    "    if len(words[counter]) > len(longest):\n",
    "        longest = words[counter]\n",
    "    counter += 1\n",
    "print(f'longest word is: {longest}. length of longest wors is {len(longest)}')\n"
   ]
  },
  {
   "cell_type": "code",
   "execution_count": 14,
   "metadata": {},
   "outputs": [
    {
     "name": "stdout",
     "output_type": "stream",
     "text": [
      "1\n",
      "2\n",
      "3\n",
      "4\n",
      "5\n"
     ]
    }
   ],
   "source": [
    "numbers = [1, 2, 3, 4, 5]\n",
    "\n",
    "for i in numbers:\n",
    "    print(i)"
   ]
  },
  {
   "cell_type": "code",
   "execution_count": 2,
   "metadata": {},
   "outputs": [
    {
     "name": "stdout",
     "output_type": "stream",
     "text": [
      "spring\n",
      "summer\n",
      "autumn\n",
      "winter\n"
     ]
    }
   ],
   "source": [
    "seasons = ['spring', 'summer', 'autumn', 'winter']\n",
    "\n",
    "for season in seasons:\n",
    "    print(season)"
   ]
  },
  {
   "cell_type": "code",
   "execution_count": 4,
   "metadata": {},
   "outputs": [
    {
     "name": "stdout",
     "output_type": "stream",
     "text": [
      "hello spring\n",
      "hello summer\n",
      "hello autumn\n",
      "hello winter\n"
     ]
    }
   ],
   "source": [
    "for season in seasons:\n",
    "    print(f'hello {season}')"
   ]
  },
  {
   "cell_type": "code",
   "execution_count": 6,
   "metadata": {},
   "outputs": [
    {
     "data": {
      "text/plain": [
       "[1, 2, 3, 4, 5, 6, 7, 8, 9, 10, 11, 12, 13, 14, 15, 16, 17, 18, 19]"
      ]
     },
     "execution_count": 6,
     "metadata": {},
     "output_type": "execute_result"
    }
   ],
   "source": [
    "list(range(1, 20))"
   ]
  },
  {
   "cell_type": "code",
   "execution_count": 7,
   "metadata": {},
   "outputs": [
    {
     "name": "stdout",
     "output_type": "stream",
     "text": [
      "1\n",
      "2\n",
      "3\n",
      "4\n",
      "5\n"
     ]
    }
   ],
   "source": [
    "for i in range(1, 6):\n",
    "    print(i)"
   ]
  },
  {
   "cell_type": "code",
   "execution_count": 24,
   "metadata": {},
   "outputs": [
    {
     "name": "stdout",
     "output_type": "stream",
     "text": [
      "c l a r u s w a y "
     ]
    }
   ],
   "source": [
    "text = 'clarusway'\n",
    "\n",
    "for i in text:\n",
    "    print(i, end=' ')"
   ]
  },
  {
   "cell_type": "code",
   "execution_count": 37,
   "metadata": {},
   "outputs": [
    {
     "name": "stdout",
     "output_type": "stream",
     "text": [
      "c-l-a-r-u-s-w-a-y"
     ]
    }
   ],
   "source": [
    "text = 'clarusway'\n",
    "\n",
    "counter = 0\n",
    "\n",
    "for i in text:\n",
    "    counter += 1\n",
    "    if counter < len(text):\n",
    "       i += '-'\n",
    "    print(i, end='')"
   ]
  },
  {
   "cell_type": "code",
   "execution_count": 38,
   "metadata": {},
   "outputs": [
    {
     "data": {
      "text/plain": [
       "'c-l-a-r-u-s-w-a-y'"
      ]
     },
     "execution_count": 38,
     "metadata": {},
     "output_type": "execute_result"
    }
   ],
   "source": [
    "'-'.join(text)"
   ]
  },
  {
   "cell_type": "code",
   "execution_count": 40,
   "metadata": {},
   "outputs": [],
   "source": [
    "user = {\n",
    "    'name' : 'Daniel',\n",
    "    'surname': 'smith',\n",
    "    'age': 35\n",
    "}"
   ]
  },
  {
   "cell_type": "code",
   "execution_count": 41,
   "metadata": {},
   "outputs": [
    {
     "data": {
      "text/plain": [
       "True"
      ]
     },
     "execution_count": 41,
     "metadata": {},
     "output_type": "execute_result"
    }
   ],
   "source": [
    "'name' in user  # key degerlerine bakar"
   ]
  },
  {
   "cell_type": "code",
   "execution_count": 42,
   "metadata": {},
   "outputs": [
    {
     "name": "stdout",
     "output_type": "stream",
     "text": [
      "name\n",
      "surname\n",
      "age\n"
     ]
    }
   ],
   "source": [
    "for i in user:\n",
    "    print(i)"
   ]
  },
  {
   "cell_type": "code",
   "execution_count": 45,
   "metadata": {},
   "outputs": [
    {
     "name": "stdout",
     "output_type": "stream",
     "text": [
      "Daniel\n",
      "smith\n",
      "35\n"
     ]
    }
   ],
   "source": [
    "for i in user.values():\n",
    "    print(i)"
   ]
  },
  {
   "cell_type": "code",
   "execution_count": 47,
   "metadata": {},
   "outputs": [
    {
     "name": "stdout",
     "output_type": "stream",
     "text": [
      "name\n",
      "surname\n",
      "age\n"
     ]
    }
   ],
   "source": [
    "for i in user.keys():\n",
    "    print(i)"
   ]
  },
  {
   "cell_type": "code",
   "execution_count": 4,
   "metadata": {},
   "outputs": [],
   "source": [
    "user = {\n",
    "    'name' : 'Daniel',\n",
    "    'surname': 'smith',\n",
    "    'age': 35\n",
    "}"
   ]
  },
  {
   "cell_type": "code",
   "execution_count": 5,
   "metadata": {},
   "outputs": [
    {
     "name": "stdout",
     "output_type": "stream",
     "text": [
      "('name', 'Daniel')\n",
      "('surname', 'smith')\n",
      "('age', 35)\n"
     ]
    }
   ],
   "source": [
    "for i in user.items():\n",
    "    print(i)"
   ]
  },
  {
   "cell_type": "code",
   "execution_count": 49,
   "metadata": {},
   "outputs": [
    {
     "data": {
      "text/plain": [
       "dict_items([('name', 'Daniel'), ('surname', 'smith'), ('age', 35)])"
      ]
     },
     "execution_count": 49,
     "metadata": {},
     "output_type": "execute_result"
    }
   ],
   "source": [
    "user.items()"
   ]
  },
  {
   "cell_type": "code",
   "execution_count": 7,
   "metadata": {},
   "outputs": [
    {
     "name": "stdout",
     "output_type": "stream",
     "text": [
      "name : Daniel\n",
      "surname : smith\n",
      "age : 35\n"
     ]
    }
   ],
   "source": [
    "for key, value in user.items():\n",
    "       print(key, ':', value)"
   ]
  },
  {
   "cell_type": "code",
   "execution_count": 14,
   "metadata": {},
   "outputs": [
    {
     "data": {
      "text/plain": [
       "[(1, 2, 3), ('a', 'b', 'c'), ('x', 'y', 'z')]"
      ]
     },
     "execution_count": 14,
     "metadata": {},
     "output_type": "execute_result"
    }
   ],
   "source": [
    "listem = [(1, 2, 3), ('a','b','c'), ('x','y','z')]\n",
    "listem"
   ]
  },
  {
   "cell_type": "code",
   "execution_count": 22,
   "metadata": {},
   "outputs": [
    {
     "name": "stdout",
     "output_type": "stream",
     "text": [
      "1 2 3\n",
      "a b c\n",
      "x y z\n"
     ]
    }
   ],
   "source": [
    "for i, j, k in listem:\n",
    "    print(i, j, k)"
   ]
  },
  {
   "cell_type": "code",
   "execution_count": 24,
   "metadata": {},
   "outputs": [
    {
     "data": {
      "text/plain": [
       "[0, 1, 2, 3, 4]"
      ]
     },
     "execution_count": 24,
     "metadata": {},
     "output_type": "execute_result"
    }
   ],
   "source": [
    "list(range(5))"
   ]
  },
  {
   "cell_type": "code",
   "execution_count": 31,
   "metadata": {},
   "outputs": [
    {
     "name": "stdout",
     "output_type": "stream",
     "text": [
      "7 X 0 = 0\n",
      "7 X 1 = 7\n",
      "7 X 2 = 14\n",
      "7 X 3 = 21\n",
      "7 X 4 = 28\n",
      "7 X 5 = 35\n",
      "7 X 6 = 42\n",
      "7 X 7 = 49\n",
      "7 X 8 = 56\n",
      "7 X 9 = 63\n",
      "7 X 10 = 70\n"
     ]
    }
   ],
   "source": [
    "number = 7\n",
    "\n",
    "for i in range(11):\n",
    "    print(f'{number} X {i} = {number * i}')"
   ]
  },
  {
   "cell_type": "code",
   "execution_count": 32,
   "metadata": {},
   "outputs": [
    {
     "data": {
      "text/plain": [
       "(1, 2, 3, 4, 5, 6, 7, 8, 9, 10)"
      ]
     },
     "execution_count": 32,
     "metadata": {},
     "output_type": "execute_result"
    }
   ],
   "source": [
    "tuple(range(1,11))"
   ]
  },
  {
   "cell_type": "code",
   "execution_count": 33,
   "metadata": {},
   "outputs": [
    {
     "data": {
      "text/plain": [
       "{1, 2, 3, 4, 5, 6, 7, 8, 9, 10}"
      ]
     },
     "execution_count": 33,
     "metadata": {},
     "output_type": "execute_result"
    }
   ],
   "source": [
    "set(range(1,11))"
   ]
  },
  {
   "cell_type": "code",
   "execution_count": 34,
   "metadata": {},
   "outputs": [
    {
     "data": {
      "text/plain": [
       "[1, 2, 3, 4, 5, 6, 7, 8, 9, 10]"
      ]
     },
     "execution_count": 34,
     "metadata": {},
     "output_type": "execute_result"
    }
   ],
   "source": [
    "list(range(1,11))"
   ]
  },
  {
   "cell_type": "code",
   "execution_count": 41,
   "metadata": {},
   "outputs": [
    {
     "name": "stdout",
     "output_type": "stream",
     "text": [
      "range(0, 5)\n",
      "0-1-2-3-4\n"
     ]
    }
   ],
   "source": [
    "print(range(5))\n",
    "print(*range(5), sep='-')\n"
   ]
  },
  {
   "cell_type": "code",
   "execution_count": 42,
   "metadata": {},
   "outputs": [
    {
     "name": "stdout",
     "output_type": "stream",
     "text": [
      "5 7 9 11 13 15 17 19 21 23\n"
     ]
    }
   ],
   "source": [
    "print(*range(5, 25, 2))"
   ]
  },
  {
   "cell_type": "code",
   "execution_count": 43,
   "metadata": {},
   "outputs": [
    {
     "name": "stdout",
     "output_type": "stream",
     "text": [
      "s e p e r a t e\n"
     ]
    }
   ],
   "source": [
    "print(*('seperate'))"
   ]
  },
  {
   "cell_type": "code",
   "execution_count": 58,
   "metadata": {},
   "outputs": [
    {
     "name": "stdout",
     "output_type": "stream",
     "text": [
      "[10, 8, 6, 4, 2]\n"
     ]
    }
   ],
   "source": [
    "print(list(range(10,0,-2)))"
   ]
  },
  {
   "cell_type": "code",
   "execution_count": 59,
   "metadata": {},
   "outputs": [
    {
     "data": {
      "text/plain": [
       "<zip at 0x10c3cd380>"
      ]
     },
     "execution_count": 59,
     "metadata": {},
     "output_type": "execute_result"
    }
   ],
   "source": [
    "listem1 = [1, 2, 3]\n",
    "listem2 = ['a', 'b', 'c']\n",
    "\n",
    "zip(listem1, listem2)"
   ]
  },
  {
   "cell_type": "code",
   "execution_count": 60,
   "metadata": {},
   "outputs": [
    {
     "data": {
      "text/plain": [
       "[(1, 'a'), (2, 'b'), (3, 'c')]"
      ]
     },
     "execution_count": 60,
     "metadata": {},
     "output_type": "execute_result"
    }
   ],
   "source": [
    "list(zip(listem1, listem2))"
   ]
  },
  {
   "cell_type": "code",
   "execution_count": 61,
   "metadata": {},
   "outputs": [
    {
     "name": "stdout",
     "output_type": "stream",
     "text": [
      "1 a\n",
      "2 b\n",
      "3 c\n"
     ]
    }
   ],
   "source": [
    "listem1 = [1, 2, 3]\n",
    "listem2 = ['a', 'b', 'c']\n",
    "\n",
    "for i, j in zip(listem1, listem2):\n",
    "    print(i, j)"
   ]
  },
  {
   "cell_type": "code",
   "execution_count": 64,
   "metadata": {},
   "outputs": [
    {
     "name": "stdout",
     "output_type": "stream",
     "text": [
      "{1: 'a', 2: 'b', 3: 'c'}\n"
     ]
    }
   ],
   "source": [
    "listem1 = [1, 2, 3]\n",
    "listem2 = ['a', 'b', 'c']\n",
    "\n",
    "my_dict = {}\n",
    "\n",
    "for key, value in zip(listem1, listem2):\n",
    "    my_dict.update([(key, value)])\n",
    "print(my_dict)"
   ]
  },
  {
   "cell_type": "code",
   "execution_count": 67,
   "metadata": {},
   "outputs": [
    {
     "data": {
      "text/plain": [
       "{1: 'a'}"
      ]
     },
     "execution_count": 67,
     "metadata": {},
     "output_type": "execute_result"
    }
   ],
   "source": [
    "listem1 = [1, 2, 3]\n",
    "listem2 = ['a', 'b', 'c']\n",
    "\n",
    "my_dict = {}\n",
    "\n",
    "my_dict.update([(1, 'a')])\n",
    "my_dict\n"
   ]
  },
  {
   "cell_type": "code",
   "execution_count": 68,
   "metadata": {},
   "outputs": [
    {
     "name": "stdout",
     "output_type": "stream",
     "text": [
      "{1: 'a', 2: 'b', 3: 'c'}\n"
     ]
    }
   ],
   "source": [
    "listem1 = [1, 2, 3]\n",
    "listem2 = ['a', 'b', 'c']\n",
    "\n",
    "my_dict = {}\n",
    "\n",
    "for key, value in zip(listem1, listem2):\n",
    "    my_dict.update({key : value})\n",
    "print(my_dict)"
   ]
  },
  {
   "cell_type": "code",
   "execution_count": 71,
   "metadata": {},
   "outputs": [],
   "source": [
    "numbers = list(range(10))"
   ]
  },
  {
   "cell_type": "code",
   "execution_count": 75,
   "metadata": {},
   "outputs": [
    {
     "name": "stdout",
     "output_type": "stream",
     "text": [
      "evens : [0, 2, 4, 6, 8]\n",
      "odds : [1, 3, 5, 7, 9]\n"
     ]
    }
   ],
   "source": [
    "list(range(10))\n",
    "\n",
    "evens = []\n",
    "odds = []\n",
    "\n",
    "for i in numbers:\n",
    "    if i % 2 == 0:\n",
    "        evens.append(i)     \n",
    "    else:\n",
    "        odds.append(i)\n",
    "print(f'evens : {evens}')\n",
    "print(f'odds : {odds}')\n"
   ]
  },
  {
   "cell_type": "code",
   "execution_count": 79,
   "metadata": {},
   "outputs": [
    {
     "name": "stdout",
     "output_type": "stream",
     "text": [
      "number of evens : 3\n",
      "sum of the evens 74\n",
      "number of odds : 4\n",
      "sum of the odds 108\n"
     ]
    }
   ],
   "source": [
    "list = [11, 2, 24, 61, 48, 33, 3]\n",
    "\n",
    "evens = []\n",
    "odds =[]\n",
    "\n",
    "for i in list:\n",
    "    if i % 2 == 0:\n",
    "        evens.append(i)\n",
    "    else:\n",
    "        odds.append(i)\n",
    "\n",
    "print(f'number of evens : {len(evens)}')\n",
    "print('sum of the evens', sum(evens))\n",
    "print(f'number of odds : {len(odds)}')\n",
    "print('sum of the odds', sum(odds))"
   ]
  },
  {
   "cell_type": "code",
   "execution_count": 80,
   "metadata": {},
   "outputs": [
    {
     "name": "stdout",
     "output_type": "stream",
     "text": [
      "number of evens : 3\n",
      "number of odds : 4\n"
     ]
    }
   ],
   "source": [
    "list = [11, 2, 24, 61, 48, 33, 3]\n",
    "\n",
    "evens = 0\n",
    "odds =0\n",
    "\n",
    "for i in list:\n",
    "    if i % 2 == 0:\n",
    "        evens += 1\n",
    "    else:\n",
    "        odds += 1\n",
    "\n",
    "print(f'number of evens : {evens}')\n",
    "\n",
    "print(f'number of odds : {odds}')\n"
   ]
  },
  {
   "cell_type": "code",
   "execution_count": 83,
   "metadata": {},
   "outputs": [
    {
     "name": "stdout",
     "output_type": "stream",
     "text": [
      "False\n"
     ]
    }
   ],
   "source": [
    "i = 20\n",
    "print(bool(i % 2))"
   ]
  },
  {
   "cell_type": "code",
   "execution_count": 85,
   "metadata": {},
   "outputs": [
    {
     "name": "stdout",
     "output_type": "stream",
     "text": [
      "1\n",
      "22\n",
      "333\n",
      "4444\n",
      "55555\n",
      "666666\n",
      "7777777\n",
      "88888888\n",
      "999999999\n"
     ]
    }
   ],
   "source": [
    "for i in range(1, 10):\n",
    "    print(str(i) * i)"
   ]
  },
  {
   "cell_type": "code",
   "execution_count": 87,
   "metadata": {},
   "outputs": [
    {
     "name": "stdout",
     "output_type": "stream",
     "text": [
      "        1\n",
      "       22\n",
      "      333\n",
      "     4444\n",
      "    55555\n",
      "   666666\n",
      "  7777777\n",
      " 88888888\n",
      "999999999\n"
     ]
    }
   ],
   "source": [
    "for i in range(1, 10):\n",
    "    print(' '* (9-i) + str(i) * i)"
   ]
  },
  {
   "cell_type": "code",
   "execution_count": 92,
   "metadata": {},
   "outputs": [
    {
     "name": "stdout",
     "output_type": "stream",
     "text": [
      "        1\n",
      "       222\n",
      "      33333\n",
      "     4444444\n",
      "    555555555\n",
      "   66666666666\n",
      "  7777777777777\n",
      " 888888888888888\n",
      "99999999999999999\n"
     ]
    }
   ],
   "source": [
    "for i in range(1, 10):\n",
    "    print(' '* (9-i) + str(i) * (2*i - 1))\n"
   ]
  },
  {
   "cell_type": "code",
   "execution_count": null,
   "metadata": {},
   "outputs": [],
   "source": []
  },
  {
   "cell_type": "code",
   "execution_count": null,
   "metadata": {},
   "outputs": [],
   "source": []
  }
 ],
 "metadata": {
  "kernelspec": {
   "display_name": "Python 3",
   "language": "python",
   "name": "python3"
  },
  "language_info": {
   "codemirror_mode": {
    "name": "ipython",
    "version": 3
   },
   "file_extension": ".py",
   "mimetype": "text/x-python",
   "name": "python",
   "nbconvert_exporter": "python",
   "pygments_lexer": "ipython3",
   "version": "3.12.0"
  }
 },
 "nbformat": 4,
 "nbformat_minor": 2
}
