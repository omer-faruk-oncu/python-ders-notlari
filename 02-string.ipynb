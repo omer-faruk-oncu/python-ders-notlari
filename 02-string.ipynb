{
 "cells": [
  {
   "cell_type": "code",
   "execution_count": 1,
   "metadata": {},
   "outputs": [
    {
     "name": "stdout",
     "output_type": "stream",
     "text": [
      "ben 10 yildir istanbul sehrinde yasamaktayim\n"
     ]
    }
   ],
   "source": [
    "city = 'istanbul'\n",
    "year = 10\n",
    "\n",
    "print('ben %d yildir %s sehrinde yasamaktayim' %(year, city))"
   ]
  },
  {
   "cell_type": "code",
   "execution_count": 5,
   "metadata": {},
   "outputs": [
    {
     "name": "stdout",
     "output_type": "stream",
     "text": [
      "merhaba omer yasiniz 45\n",
      "merhaba omer yasiniz 45\n"
     ]
    }
   ],
   "source": [
    "name = input('isminizi giriniz')\n",
    "yas = input('yasinizi giriniz')\n",
    "print(f'merhaba {name} yasiniz {yas}')\n",
    "print('merhaba {} yasiniz {}'.format(name,yas))"
   ]
  },
  {
   "cell_type": "code",
   "execution_count": 6,
   "metadata": {},
   "outputs": [
    {
     "name": "stdout",
     "output_type": "stream",
     "text": [
      "merhaba omer yasiniz 45\n"
     ]
    }
   ],
   "source": [
    "\n",
    "\n",
    "print('merhaba {name} yasiniz {yas}'.format(name = 'omer',yas = 45))"
   ]
  },
  {
   "cell_type": "code",
   "execution_count": 15,
   "metadata": {},
   "outputs": [
    {
     "name": "stdout",
     "output_type": "stream",
     "text": [
      "ben yarin istanbula gidecegim sonrada parise ucacagim\n"
     ]
    }
   ],
   "source": [
    "print('ben yarin istanbula gidecegim \\\n",
    "sonrada parise ucacagim')"
   ]
  },
  {
   "cell_type": "code",
   "execution_count": 16,
   "metadata": {},
   "outputs": [
    {
     "name": "stdout",
     "output_type": "stream",
     "text": [
      "hi josseph you are one of the teachers in the data science section.\n"
     ]
    }
   ],
   "source": [
    "name = 'josseph'\n",
    "job = 'teachers'\n",
    "domain = 'data science'\n",
    "message = (\n",
    "    f'hi {name} '\n",
    "    f'you are one of the {job} '\n",
    "    f'in the {domain} section.'\n",
    ")\n",
    "print(message)\n"
   ]
  },
  {
   "cell_type": "code",
   "execution_count": 17,
   "metadata": {},
   "outputs": [
    {
     "name": "stdout",
     "output_type": "stream",
     "text": [
      "hi josseph you are one of the teachers in the data science section.\n"
     ]
    }
   ],
   "source": [
    "name = 'josseph'\n",
    "job = 'teachers'\n",
    "domain = 'data science'\n",
    "message = f'hi {name} ' \\\n",
    "    f'you are one of the {job} ' \\\n",
    "    f'in the {domain} section.'\n",
    "print(message)"
   ]
  },
  {
   "cell_type": "code",
   "execution_count": 20,
   "metadata": {},
   "outputs": [
    {
     "name": "stdout",
     "output_type": "stream",
     "text": [
      "hi josseph you are one of the teachers in the data science section.\n"
     ]
    }
   ],
   "source": [
    "name = 'josseph'\n",
    "job = 'teachers'\n",
    "domain = 'data science'\n",
    "message = f'hi {name} \\\n",
    "you are one of the {job} \\\n",
    "in the {domain} section.'\n",
    "print(message)"
   ]
  },
  {
   "cell_type": "code",
   "execution_count": null,
   "metadata": {},
   "outputs": [],
   "source": []
  }
 ],
 "metadata": {
  "kernelspec": {
   "display_name": "Python 3",
   "language": "python",
   "name": "python3"
  },
  "language_info": {
   "codemirror_mode": {
    "name": "ipython",
    "version": 3
   },
   "file_extension": ".py",
   "mimetype": "text/x-python",
   "name": "python",
   "nbconvert_exporter": "python",
   "pygments_lexer": "ipython3",
   "version": "3.12.0"
  }
 },
 "nbformat": 4,
 "nbformat_minor": 2
}
